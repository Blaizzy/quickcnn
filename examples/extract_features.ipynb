{
  "nbformat": 4,
  "nbformat_minor": 0,
  "metadata": {
    "colab": {
      "name": "extract_features.ipynb",
      "version": "0.3.2",
      "provenance": [],
      "collapsed_sections": []
    },
    "kernelspec": {
      "name": "python3",
      "display_name": "Python 3"
    },
    "accelerator": "GPU"
  },
  "cells": [
    {
      "metadata": {
        "id": "jATohHI6Fh31",
        "colab_type": "text"
      },
      "cell_type": "markdown",
      "source": [
        "### Install QuickCNN in Google Colab"
      ]
    },
    {
      "metadata": {
        "id": "USB8cvXjFaZo",
        "colab_type": "code",
        "colab": {}
      },
      "cell_type": "code",
      "source": [
        "!pip install quickcnn"
      ],
      "execution_count": 0,
      "outputs": []
    },
    {
      "metadata": {
        "id": "KO9CaEx2FkMW",
        "colab_type": "text"
      },
      "cell_type": "markdown",
      "source": [
        "### Extract features from layer"
      ]
    },
    {
      "metadata": {
        "id": "xfZaY2iACLdR",
        "colab_type": "code",
        "colab": {}
      },
      "cell_type": "code",
      "source": [
        "from quickcnn import retrain\n",
        "\n",
        "# choose training mode=3, and say no to train if you do not want to train SVM.\n",
        "convnet = retrain.Retrain(train_dir_name = 'Food image data/train_data',\n",
        "                          val_dir_name = 'Food image data/val_data')\n",
        "\n",
        "# Bottleneck features\n",
        "print(convnet.X)\n",
        "\n",
        "# Image label\n",
        "print(convnet.Y)"
      ],
      "execution_count": 0,
      "outputs": []
    },
    {
      "metadata": {
        "id": "udcAqpO8hf8E",
        "colab_type": "code",
        "colab": {}
      },
      "cell_type": "code",
      "source": [
        ""
      ],
      "execution_count": 0,
      "outputs": []
    }
  ]
}