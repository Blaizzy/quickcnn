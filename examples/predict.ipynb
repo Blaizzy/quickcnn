{
  "nbformat": 4,
  "nbformat_minor": 0,
  "metadata": {
    "colab": {
      "name": "predict.ipynb",
      "version": "0.3.2",
      "provenance": [],
      "collapsed_sections": []
    },
    "kernelspec": {
      "name": "python3",
      "display_name": "Python 3"
    },
    "accelerator": "GPU"
  },
  "cells": [
    {
      "metadata": {
        "id": "kALNGchUAUzj",
        "colab_type": "text"
      },
      "cell_type": "markdown",
      "source": [
        "### Install QuickCNN in Google Colab"
      ]
    },
    {
      "metadata": {
        "id": "yWhQajv6ATMa",
        "colab_type": "code",
        "colab": {}
      },
      "cell_type": "code",
      "source": [
        "!pip install quickcnn"
      ],
      "execution_count": 0,
      "outputs": []
    },
    {
      "metadata": {
        "id": "t8SUqGMkAjGY",
        "colab_type": "text"
      },
      "cell_type": "markdown",
      "source": [
        "### Prediction"
      ]
    },
    {
      "metadata": {
        "id": "H_ROzzXgfU1D",
        "colab_type": "code",
        "colab": {}
      },
      "cell_type": "code",
      "source": [
        "from quickcnn import retrain\n",
        "\n",
        "convnet = retrain.Retrain(train_mode=False)\n",
        "\n",
        "# test_data folder having mixed class images OR test.jpg\n",
        "convnet.predict('Food image data/val_data/burger')\n",
        "print(convnet.results)"
      ],
      "execution_count": 0,
      "outputs": []
    },
    {
      "metadata": {
        "id": "CtpyWkiHgBBZ",
        "colab_type": "code",
        "colab": {}
      },
      "cell_type": "code",
      "source": [
        ""
      ],
      "execution_count": 0,
      "outputs": []
    }
  ]
}