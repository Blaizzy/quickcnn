{
  "nbformat": 4,
  "nbformat_minor": 0,
  "metadata": {
    "colab": {
      "name": "train.ipynb",
      "version": "0.3.2",
      "provenance": [],
      "collapsed_sections": []
    },
    "kernelspec": {
      "name": "python3",
      "display_name": "Python 3"
    },
    "accelerator": "GPU"
  },
  "cells": [
    {
      "metadata": {
        "id": "Zh63lwdT-8IN",
        "colab_type": "text"
      },
      "cell_type": "markdown",
      "source": [
        "### Install QuickCNN in Google Colab"
      ]
    },
    {
      "metadata": {
        "id": "DXPyuxXZ-ois",
        "colab_type": "code",
        "colab": {}
      },
      "cell_type": "code",
      "source": [
        "!pip install quickcnn"
      ],
      "execution_count": 0,
      "outputs": []
    },
    {
      "metadata": {
        "id": "cNZeH-dV_CA5",
        "colab_type": "text"
      },
      "cell_type": "markdown",
      "source": [
        "### Upload dataset in Google Drive\n",
        "\n",
        "Data is uploaded in splitted format, so we need to pass **train_dir_name** and **val_dir_name**.\n",
        "\n",
        "### Now, Let's train the model\n",
        "\n",
        "*   Here, **preserve_imagenet_classes** is True to predict ImageNet class with new class of our dataset.\n",
        "\n",
        "*   We want to use Tensorboard, then **use_tensorboard** has to be True, but do  not want to write histogram, so **histogram_freq** is 0.\n",
        "\n",
        "*   Batch size is **32**. We can adust as per GPU utilization.\n",
        "\n",
        "*   You can check other arguments in **README.md**."
      ]
    },
    {
      "metadata": {
        "id": "j2wtGH4f_C5X",
        "colab_type": "code",
        "colab": {}
      },
      "cell_type": "code",
      "source": [
        "from quickcnn import retrain\n",
        "\n",
        "convnet = retrain.Retrain(train_dir_name = 'Food image data/train_data',\n",
        "                          val_dir_name = 'Food image data/val_data', \n",
        "                          preserve_imagenet_classes=True, \n",
        "                          epoch=20, use_tensorboard=True, histogram_freq=0, batch_size=32)"
      ],
      "execution_count": 0,
      "outputs": []
    },
    {
      "metadata": {
        "id": "QDSXG7zwEr2a",
        "colab_type": "text"
      },
      "cell_type": "markdown",
      "source": [
        "### Predict"
      ]
    },
    {
      "metadata": {
        "id": "6bWPVB_yC5BN",
        "colab_type": "code",
        "colab": {}
      },
      "cell_type": "code",
      "source": [
        "# test_data folder having mixed class images OR test.jpg\n",
        "convnet.predict('Food image data/val_data/burger')\n",
        "print(convnet.results)"
      ],
      "execution_count": 0,
      "outputs": []
    }
  ]
}